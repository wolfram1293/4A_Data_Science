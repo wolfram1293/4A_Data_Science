{
  "cells": [
    {
      "cell_type": "code",
      "execution_count": 83,
      "metadata": {
        "colab": {
          "base_uri": "https://localhost:8080/",
          "height": 299
        },
        "id": "9uSk77MBhMHL",
        "outputId": "34f9ac51-72f6-446f-9e3b-656768b30310"
      },
      "outputs": [
        {
          "name": "stdout",
          "output_type": "stream",
          "text": [
            "0.9154387925925136\n"
          ]
        },
        {
          "data": {
            "text/plain": [
              "<matplotlib.collections.PathCollection at 0x7f4f297c4b50>"
            ]
          },
          "execution_count": 83,
          "metadata": {},
          "output_type": "execute_result"
        },
        {
          "data": {
            "image/png": "[encoded data removed]",
            "text/plain": [
              "<Figure size 432x288 with 1 Axes>"
            ]
          },
          "metadata": {
            "needs_background": "light"
          },
          "output_type": "display_data"
        }
      ],
      "source": [
        "import pandas as pd\n",
        "import numpy as np\n",
        "\n",
        "from sklearn.neural_network import MLPRegressor\n",
        "\n",
        "from sklearn.model_selection import train_test_split\n",
        "\n",
        "import matplotlib.pyplot as plt\n",
        "%matplotlib inline\n",
        "\n",
        "df = pd.read_csv('data/回帰課題データ.csv', encoding=\"utf-8\")\n",
        "X = df.iloc[:,:8].values # 説明変数\n",
        "y = df.iloc[:,8].values # 被説明変数\n",
        "\n",
        "ave_corrcoef = []\n",
        "for i in range(10):\n",
        "  X_train, X_test, y_train, y_test = train_test_split(X, y, test_size=0.3) # ランダムに70%を訓練データとして用いる\n",
        "  model = MLPRegressor(hidden_layer_sizes=(100,),learning_rate=\"adaptive\",learning_rate_init=0.001,max_iter=3000, early_stopping = False) # modelはMLPRegressorを用いる\n",
        "  model.fit(X_train, y_train)\n",
        "  y_predicted = model.predict(X_test)\n",
        "  corrcoef = np.corrcoef(y_test,y_predicted) # 相関行列\n",
        "  ave_corrcoef = np.append(ave_corrcoef,corrcoef[0,1])\n",
        "\n",
        "print(np.average(ave_corrcoef)) # 相関の平均\n",
        "plt.scatter(y_test,y_predicted)"
      ]
    },
    {
      "cell_type": "code",
      "execution_count": null,
      "metadata": {
        "id": "SPrRRwDMiK88"
      },
      "outputs": [],
      "source": []
    }
  ],
  "metadata": {
    "accelerator": "GPU",
    "colab": {
      "collapsed_sections": [],
      "name": "Untitled0.ipynb",
      "provenance": []
    },
    "kernelspec": {
      "display_name": "Python 3",
      "name": "python3"
    },
    "language_info": {
      "name": "python"
    }
  },
  "nbformat": 4,
  "nbformat_minor": 0
}
